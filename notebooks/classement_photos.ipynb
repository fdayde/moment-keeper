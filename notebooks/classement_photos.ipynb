{
 "cells": [
  {
   "cell_type": "markdown",
   "id": "5c609b84",
   "metadata": {},
   "source": [
    "# 🦖🍼 MomentKeeper - Organisateur de Photos par Âge du Bébé\n",
    "\n",
    "Ce notebook organise automatiquement les photos de votre bébé dans des dossiers mensuels basés sur :\n",
    "- La date de naissance du bébé\n",
    "- La date contenue dans le nom des fichiers photos\n",
    "\n",
    "## 📋 Prérequis\n",
    "- Les photos doivent être nommées au format : `YYYYMMDD_description.jpg`\n",
    "- Exemple : `20240725_premier_sourire.jpg`\n",
    "\n",
    "## 📂 Structure créée\n",
    "```\n",
    "Dossier principal/\n",
    "├── photos/ (dossier source)\n",
    "├── 0-1mois/\n",
    "├── 1-2mois/\n",
    "├── 2-3mois/\n",
    "├── ...\n",
    "└── 11-12mois/\n",
    "```\n",
    "\n",
    "## 🚀 Instructions\n",
    "1. **Modifiez les paramètres** dans la cellule de configuration ci-dessous\n",
    "2. **Exécutez toutes les cellules** dans l'ordre\n",
    "3. **Vérifiez la simulation** avant de confirmer le déplacement réel\n",
    "\n",
    "## ⚙️ Configuration - À MODIFIER selon vos besoins\n",
    "\n",
    "🔧 PARAMÈTRES À CONFIGURER"
   ]
  },
  {
   "cell_type": "code",
   "execution_count": 10,
   "id": "916499fd",
   "metadata": {},
   "outputs": [],
   "source": [
    "# === PARAMÈTRES PRINCIPAUX ===\n",
    "# Chemin vers le dossier principal (qui contient le sous-dossier 'photos')\n",
    "DOSSIER_PRINCIPAL = r\"C:\\Users\\Florent\\Desktop\\photos lucas\"\n",
    "\n",
    "# Dossier contenant les photos à organiser (dans le dossier principal)\n",
    "DOSSIER_PHOTOS = \"photos\"\n",
    "\n",
    "# Date de naissance du bébé (format YYYY-MM-DD)\n",
    "DATE_NAISSANCE = \"2024-06-25\"\n",
    "\n",
    "# Afficher plus de détails pendant l'exécution (True/False)\n",
    "MODE_VERBOSE = True"
   ]
  },
  {
   "cell_type": "code",
   "execution_count": 11,
   "id": "c5a6ce55",
   "metadata": {},
   "outputs": [
    {
     "name": "stdout",
     "output_type": "stream",
     "text": [
      "✅ Configuration chargée !\n",
      "📁 Dossier principal : C:\\Users\\Florent\\Desktop\\photos lucas\n",
      "🦖 Date de naissance : 2024-06-25\n"
     ]
    }
   ],
   "source": [
    "print(\"✅ Configuration chargée !\")\n",
    "print(f\"📁 Dossier principal : {DOSSIER_PRINCIPAL}\")\n",
    "print(f\"🦖 Date de naissance : {DATE_NAISSANCE}\")"
   ]
  },
  {
   "cell_type": "code",
   "execution_count": 12,
   "id": "2918773b",
   "metadata": {},
   "outputs": [
    {
     "name": "stdout",
     "output_type": "stream",
     "text": [
      "✅ Modules importés depuis le package moment_keeper\n"
     ]
    }
   ],
   "source": [
    "import sys\n",
    "from pathlib import Path\n",
    "import os\n",
    "\n",
    "# Ajouter le dossier parent au path pour importer les modules\n",
    "# Dans un notebook, on utilise os.getcwd() au lieu de __file__\n",
    "notebook_dir = Path(os.getcwd())\n",
    "project_root = notebook_dir.parent if notebook_dir.name == \"notebooks\" else notebook_dir\n",
    "sys.path.insert(0, str(project_root))\n",
    "\n",
    "from src.moment_keeper.organizer import OrganisateurPhotos\n",
    "from src.moment_keeper.path_manager import PathManager\n",
    "from src.moment_keeper.photo_copier import PhotoCopier\n",
    "\n",
    "print(\"✅ Modules importés depuis le package moment_keeper\")"
   ]
  },
  {
   "cell_type": "markdown",
   "id": "256f81c2",
   "metadata": {},
   "source": [
    "## Exécution"
   ]
  },
  {
   "cell_type": "code",
   "execution_count": 13,
   "id": "ea56e7f4",
   "metadata": {},
   "outputs": [
    {
     "name": "stdout",
     "output_type": "stream",
     "text": [
      "🎯 Organisateur initialisé avec succès !\n",
      "📁 Dossier racine : C:\\Users\\Florent\\Desktop\\photos lucas\n",
      "📸 Sous-dossier photos : photos\n",
      "🦖 Date de naissance : 2024-06-25\n"
     ]
    }
   ],
   "source": [
    "# Initialiser l'organisateur avec les paramètres configurés\n",
    "from datetime import datetime\n",
    "\n",
    "date_naissance_dt = datetime.strptime(DATE_NAISSANCE, \"%Y-%m-%d\")\n",
    "dossier_racine_path = Path(DOSSIER_PRINCIPAL)\n",
    "\n",
    "# Créer l'organisateur\n",
    "organisateur = OrganisateurPhotos(\n",
    "    dossier_racine_path, DOSSIER_PHOTOS, date_naissance_dt\n",
    ")\n",
    "\n",
    "print(\"🎯 Organisateur initialisé avec succès !\")\n",
    "print(f\"📁 Dossier racine : {dossier_racine_path}\")\n",
    "print(f\"📸 Sous-dossier photos : {DOSSIER_PHOTOS}\")\n",
    "print(f\"🦖 Date de naissance : {DATE_NAISSANCE}\")"
   ]
  },
  {
   "cell_type": "markdown",
   "id": "d45d44fd",
   "metadata": {},
   "source": [
    "## 🔍 Vérification de la configuration"
   ]
  },
  {
   "cell_type": "code",
   "execution_count": 14,
   "id": "bbcd29d2",
   "metadata": {},
   "outputs": [
    {
     "name": "stdout",
     "output_type": "stream",
     "text": [
      "✅ Configuration valide !\n",
      "📁 Dossier racine : C:\\Users\\Florent\\Desktop\\photos lucas\n",
      "📸 Dossier photos : C:\\Users\\Florent\\Desktop\\photos lucas\\photos\n",
      "📊 0 photos trouvées dans le dossier\n",
      "\n",
      "✨ Prêt à organiser les photos !\n"
     ]
    }
   ],
   "source": [
    "# Vérifier que les dossiers existent\n",
    "dossier_racine_path = Path(DOSSIER_PRINCIPAL)\n",
    "dossier_photos_path = dossier_racine_path / DOSSIER_PHOTOS\n",
    "\n",
    "if not dossier_racine_path.exists():\n",
    "    print(f\"❌ Le dossier racine {dossier_racine_path} n'existe pas !\")\n",
    "    print(\"💡 Vérifiez le chemin DOSSIER_PRINCIPAL.\")\n",
    "elif not dossier_photos_path.exists():\n",
    "    print(f\"❌ Le dossier photos {dossier_photos_path} n'existe pas !\")\n",
    "    print(\"💡 Vérifiez le chemin DOSSIER_PHOTOS.\")\n",
    "else:\n",
    "    nb_fichiers = len(\n",
    "        list(dossier_photos_path.glob(\"*.jpg\"))\n",
    "        + list(dossier_photos_path.glob(\"*.jpeg\"))\n",
    "        + list(dossier_photos_path.glob(\"*.png\"))\n",
    "    )\n",
    "    print(f\"✅ Configuration valide !\")\n",
    "    print(f\"📁 Dossier racine : {dossier_racine_path}\")\n",
    "    print(f\"📸 Dossier photos : {dossier_photos_path}\")\n",
    "    print(f\"📊 {nb_fichiers} photos trouvées dans le dossier\")\n",
    "    print(\"\\n✨ Prêt à organiser les photos !\")"
   ]
  },
  {
   "cell_type": "markdown",
   "id": "c71df6bd",
   "metadata": {},
   "source": [
    "## 📂 ÉTAPE 2 - Création des dossiers mensuels"
   ]
  },
  {
   "cell_type": "code",
   "execution_count": 15,
   "id": "9c5ab691",
   "metadata": {},
   "outputs": [
    {
     "name": "stdout",
     "output_type": "stream",
     "text": [
      "📂 Les dossiers mensuels seront créés automatiquement lors de l'organisation des photos.\n",
      "✅ Prêt pour l'analyse !\n"
     ]
    }
   ],
   "source": [
    "# Les dossiers seront créés automatiquement lors de l'organisation\n",
    "print(\n",
    "    \"📂 Les dossiers mensuels seront créés automatiquement lors de l'organisation des photos.\"\n",
    ")\n",
    "print(\"✅ Prêt pour l'analyse !\")"
   ]
  },
  {
   "cell_type": "markdown",
   "id": "c34926e3",
   "metadata": {},
   "source": [
    "## 🔎 ÉTAPE 3 - Analyse des photos (simulation)"
   ]
  },
  {
   "cell_type": "code",
   "execution_count": 16,
   "id": "f55fe817",
   "metadata": {},
   "outputs": [
    {
     "name": "stdout",
     "output_type": "stream",
     "text": [
      "🔍 Analyse des photos...\n",
      "\n",
      "📊 Résultats de l'analyse :\n",
      "   ✅ Total photos valides : 0\n",
      "⚠️ Aucune photo trouvée à organiser.\n"
     ]
    }
   ],
   "source": [
    "# Analyser toutes les photos pour voir ce qui sera fait\n",
    "print(\"🔍 Analyse des photos...\")\n",
    "repartition = organisateur.analyser_photos()\n",
    "\n",
    "# Compter le total\n",
    "total_photos = sum(len(fichiers) for fichiers in repartition.values())\n",
    "\n",
    "print(f\"\\n📊 Résultats de l'analyse :\")\n",
    "print(f\"   ✅ Total photos valides : {total_photos}\")\n",
    "\n",
    "# Afficher la répartition par dossier\n",
    "if repartition:\n",
    "    print(f\"\\n📋 Répartition par mois :\")\n",
    "    for dossier, fichiers in sorted(repartition.items()):\n",
    "        print(f\"   📁 {dossier}: {len(fichiers)} photo(s)\")\n",
    "        if MODE_VERBOSE and len(fichiers) <= 5:\n",
    "            for fichier in fichiers:\n",
    "                print(f\"      - {fichier.name}\")\n",
    "else:\n",
    "    print(\"⚠️ Aucune photo trouvée à organiser.\")\n",
    "\n",
    "# Afficher les fichiers ignorés s'il y en a\n",
    "if hasattr(organisateur, \"_fichiers_ignores\") and organisateur._fichiers_ignores:\n",
    "    print(f\"\\n⚠️ Fichiers ignorés : {len(organisateur._fichiers_ignores)}\")\n",
    "    for nom, raison in organisateur._fichiers_ignores[:5]:\n",
    "        print(f\"   - {nom}: {raison}\")"
   ]
  },
  {
   "cell_type": "markdown",
   "id": "c91fa656",
   "metadata": {},
   "source": [
    "## 🎬 ÉTAPE 4 - Simulation du déplacement"
   ]
  },
  {
   "cell_type": "code",
   "execution_count": 17,
   "id": "b47269b5",
   "metadata": {},
   "outputs": [
    {
     "name": "stdout",
     "output_type": "stream",
     "text": [
      "⚠️ Aucune photo valide à organiser.\n"
     ]
    }
   ],
   "source": [
    "if repartition:\n",
    "    print(\"🎭 Simulation du déplacement...\")\n",
    "    repartition_sim, erreurs_sim = organisateur.simuler_organisation()\n",
    "\n",
    "    print(f\"\\n✨ Simulation terminée : {total_photos} photos seraient déplacées\")\n",
    "\n",
    "    if erreurs_sim:\n",
    "        print(f\"\\n⚠️ Avertissements détectés :\")\n",
    "        for erreur in erreurs_sim[:5]:\n",
    "            print(f\"   - {erreur}\")\n",
    "else:\n",
    "    print(\"⚠️ Aucune photo valide à organiser.\")"
   ]
  },
  {
   "cell_type": "markdown",
   "id": "70a41d0d",
   "metadata": {},
   "source": [
    "## ⚡ ÉTAPE 5 - Déplacement réel\n",
    "\n",
    "**⚠️ ATTENTION :** Cette cellule va réellement déplacer vos fichiers !\n",
    "Exécutez cette cellule seulement si :\n",
    "- La simulation ci-dessus vous convient\n",
    "- Vous avez vérifié les résultats\n",
    "- Vous êtes sûr de vouloir procéder"
   ]
  },
  {
   "cell_type": "code",
   "execution_count": 18,
   "id": "53d36cf4",
   "metadata": {},
   "outputs": [
    {
     "name": "stdout",
     "output_type": "stream",
     "text": [
      "ℹ️ Aucune photo à déplacer.\n"
     ]
    }
   ],
   "source": [
    "if repartition:\n",
    "    reponse = input(\n",
    "        f\"🤔 Voulez-vous vraiment déplacer {total_photos} photos ? (tapez 'OUI' pour confirmer) : \"\n",
    "    )\n",
    "\n",
    "    if reponse == \"OUI\":\n",
    "        print(\"\\n🚀 Déplacement en cours...\")\n",
    "        nb_deplacees, erreurs = organisateur.organiser()\n",
    "        print(\n",
    "            f\"\\n🎉 Succès ! {nb_deplacees} photos ont été organisées dans leurs dossiers respectifs.\"\n",
    "        )\n",
    "\n",
    "        if erreurs:\n",
    "            print(f\"📝 {len(erreurs)} erreurs rencontrées :\")\n",
    "            for erreur in erreurs[:5]:\n",
    "                print(f\"   - {erreur}\")\n",
    "    else:\n",
    "        print(\"❌ Opération annulée.\")\n",
    "else:\n",
    "    print(\"ℹ️ Aucune photo à déplacer.\")"
   ]
  },
  {
   "cell_type": "markdown",
   "id": "b0470246",
   "metadata": {},
   "source": [
    "## 🔄 ÉTAPE 6 (Si besoin) - RESET - Remettre toutes les photos dans le dossier original\n",
    "\n",
    "**🎯 Utilité :** Cette section permet de remettre toutes les photos des dossiers mensuels dans le dossier `photos` original.\n",
    " \n",
    "**📝 Cas d'usage :**\n",
    "- Corriger une erreur de configuration\n",
    "- Refaire l'organisation avec une nouvelle date de naissance\n",
    "- Annuler une organisation qui ne vous convient pas\n",
    " \n",
    "**⚠️ Important :** Le reset fonctionne même si vous avez fermé et rouvert le notebook."
   ]
  },
  {
   "cell_type": "code",
   "execution_count": 19,
   "id": "c46cb46e",
   "metadata": {},
   "outputs": [
    {
     "name": "stdout",
     "output_type": "stream",
     "text": [
      "🔍 Scan des dossiers mensuels...\n",
      "📊 734 photos trouvées dans les dossiers mensuels\n",
      "\n",
      "📋 Répartition actuelle :\n",
      "   📁 11-12months: 292 photo(s)\n",
      "   📁 12-13months: 442 photo(s)\n"
     ]
    }
   ],
   "source": [
    "# 🔍 Scanner les photos actuellement organisées\n",
    "print(\"🔍 Scan des dossiers mensuels...\")\n",
    "\n",
    "# Compter les photos dans chaque dossier\n",
    "photos_organisees = {}\n",
    "dossier_base = Path(DOSSIER_PRINCIPAL)\n",
    "\n",
    "for dossier in dossier_base.iterdir():\n",
    "    if dossier.is_dir() and \"month\" in dossier.name:\n",
    "        nb_photos = len(\n",
    "            list(dossier.glob(\"*.jpg\"))\n",
    "            + list(dossier.glob(\"*.jpeg\"))\n",
    "            + list(dossier.glob(\"*.png\"))\n",
    "        )\n",
    "        if nb_photos > 0:\n",
    "            photos_organisees[dossier.name] = nb_photos\n",
    "\n",
    "total_organisees = sum(photos_organisees.values())\n",
    "print(f\"📊 {total_organisees} photos trouvées dans les dossiers mensuels\")\n",
    "\n",
    "if photos_organisees:\n",
    "    print(f\"\\n📋 Répartition actuelle :\")\n",
    "    for dossier, nb_photos in sorted(photos_organisees.items()):\n",
    "        print(f\"   📁 {dossier}: {nb_photos} photo(s)\")\n",
    "else:\n",
    "    print(\"ℹ️ Aucune photo à remettre (dossiers mensuels vides).\")"
   ]
  },
  {
   "cell_type": "code",
   "execution_count": 20,
   "id": "da79b048",
   "metadata": {},
   "outputs": [
    {
     "name": "stdout",
     "output_type": "stream",
     "text": [
      "🎭 Simulation du reset...\n",
      "📊 734 photos seraient remises dans le dossier photos\n",
      "📁 Destination : C:\\Users\\Florent\\Desktop\\photos lucas\\photos\n"
     ]
    }
   ],
   "source": [
    "# 🎭 Simulation du reset\n",
    "if total_organisees > 0:\n",
    "    print(\"🎭 Simulation du reset...\")\n",
    "    print(f\"📊 {total_organisees} photos seraient remises dans le dossier photos\")\n",
    "    print(f\"📁 Destination : {dossier_photos_path}\")\n",
    "else:\n",
    "    print(\"ℹ️ Aucune photo à remettre.\")"
   ]
  },
  {
   "cell_type": "code",
   "execution_count": 21,
   "id": "d42c48b3",
   "metadata": {},
   "outputs": [
    {
     "name": "stdout",
     "output_type": "stream",
     "text": [
      "💡 Pour exécuter le reset réel, décommentez le code ci-dessus et relancez la cellule.\n"
     ]
    }
   ],
   "source": [
    "# 🚨 RESET RÉEL - Décommentez les lignes ci-dessous pour exécuter :\n",
    "\n",
    "# if total_organisees > 0:\n",
    "#     reponse = input(f\"🤔 Voulez-vous vraiment remettre {total_organisees} photos dans le dossier original ? (tapez 'RESET' pour confirmer) : \")\n",
    "\n",
    "#     if reponse == 'RESET':\n",
    "#         print(\"\\n🔄 Reset en cours...\")\n",
    "#         nb_remises, erreurs = organisateur.reinitialiser()\n",
    "#         print(f\"\\n🎉 Succès ! {nb_remises} photos ont été remises dans le dossier photos.\")\n",
    "#         print(f\"📁 Toutes les photos sont maintenant dans : {dossier_photos_path}\")\n",
    "\n",
    "#         if erreurs:\n",
    "#             print(f\"📝 {len(erreurs)} erreurs rencontrées :\")\n",
    "#             for erreur in erreurs[:5]:\n",
    "#                 print(f\"   - {erreur}\")\n",
    "#     else:\n",
    "#         print(\"❌ Reset annulé.\")\n",
    "# else:\n",
    "#     print(\"ℹ️ Aucune photo à remettre.\")\n",
    "\n",
    "print(\n",
    "    \"💡 Pour exécuter le reset réel, décommentez le code ci-dessus et relancez la cellule.\"\n",
    ")"
   ]
  },
  {
   "cell_type": "markdown",
   "id": "021b753f",
   "metadata": {},
   "source": [
    "## 🎯 Résumé final\n",
    "\n",
    "### Workflow complet du notebook :\n",
    "1. **Configuration** → Modifier les paramètres selon vos besoins\n",
    "2. **Copie téléphone** → Récupérer les photos depuis le téléphone (optionnel)\n",
    "3. **Création dossiers** → Préparer la structure mensuelle\n",
    "4. **Analyse** → Vérifier ce qui sera fait\n",
    "5. **Organisation** → Déplacer les photos par âge\n",
    "6. **Reset si besoin** → Annuler et recommencer\n",
    "\n",
    "### Fonctionnalités principales :\n",
    "1. **Copie intelligente** depuis téléphone avec filtrage par date\n",
    "2. **Renommage automatique** au format `YYYYMMDD_description.jpg`\n",
    "3. **Organisation** par âge du bébé (0-12 mois)\n",
    "4. **Reset complet** pour annuler l'organisation\n",
    "5. **Gestion robuste** des conflits et erreurs\n",
    "\n",
    "### Gestion des dates :\n",
    "- **Photos téléphone** : Date de fichier ou nom si format correct\n",
    "- **Photos organisées** : Extraction depuis le nom `YYYYMMDD_*`\n",
    "- **Calcul d'âge** : Précis au jour près\n",
    "\n",
    "### Sécurités intégrées :\n",
    "- **Simulations obligatoires** avant toute action\n",
    "- **Confirmations** avec mots-clés spécifiques\n",
    "- **Logs détaillés** des erreurs et actions\n",
    "- **Sauvegarde** des fichiers originaux\n",
    "\n",
    "### En cas de problème :\n",
    "- Vérifiez les chemins dans la configuration\n",
    "- Consultez les fichiers de log (`.txt` et `.log`)\n",
    "- Utilisez le reset pour annuler l'organisation\n",
    "- Vérifiez le format des noms : `YYYYMMDD_description.jpg`\n",
    "\n",
    "**✨ Votre système complet de gestion des photos de bébé est maintenant prêt !**"
   ]
  }
 ],
 "metadata": {
  "kernelspec": {
   "display_name": ".venv",
   "language": "python",
   "name": "python3"
  },
  "language_info": {
   "codemirror_mode": {
    "name": "ipython",
    "version": 3
   },
   "file_extension": ".py",
   "mimetype": "text/x-python",
   "name": "python",
   "nbconvert_exporter": "python",
   "pygments_lexer": "ipython3",
   "version": "3.13.1"
  }
 },
 "nbformat": 4,
 "nbformat_minor": 5
}
